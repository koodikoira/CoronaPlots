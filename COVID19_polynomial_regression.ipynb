{
 "cells": [
  {
   "cell_type": "markdown",
   "metadata": {},
   "source": [
    "# Dogtor dog's temporal COVID19 polynomial regression"
   ]
  },
  {
   "cell_type": "markdown",
   "metadata": {},
   "source": [
    "<img src=\"https://s14-eu5.startpage.com/cgi-bin/serveimage?url=https:%2F%2Fsteamuserimages-a.akamaihd.net%2Fugc%2F272841093784221615%2F948967DA5537466A9509113E12C237641EB1506D%2F&sp=9ce3481ad1247d4f63b90d00de600702\" alt=\"The Man himself\" style=\"width:250px;height:200px;\">\n",
    "\n",
    "<p>This is a 2D visualization of polynomial regression on temporal COVID19 epidemiological data available from: <strike><a href=\"https://www.acdc.com/\">acdc</a></strike>, <a href=\"https://www.ecdc.europa.eu/en/publications-data/download-todays-data-geographic-distribution-covid-19-cases-worldwide\">ecdc</a>.</p>\n",
    "\n",
    "<p>I wouldn't trust the predictions of polynomial regression though.</p>"
   ]
  },
  {
   "cell_type": "markdown",
   "metadata": {},
   "source": [
    "## Reading in the data"
   ]
  },
  {
   "cell_type": "code",
   "execution_count": 1,
   "metadata": {},
   "outputs": [],
   "source": [
    "import pandas as pd\n",
    "import numpy as np\n",
    "df = pd.read_csv(\"https://opendata.ecdc.europa.eu/covid19/casedistribution/csv\") "
   ]
  },
  {
   "cell_type": "markdown",
   "metadata": {},
   "source": [
    "### Preprocessing"
   ]
  },
  {
   "cell_type": "code",
   "execution_count": 6,
   "metadata": {},
   "outputs": [],
   "source": [
    "countrylist = df[\"countriesAndTerritories\"].unique()\n",
    "dflist = pd.DataFrame(columns = [\"dateRep\", \"cases\", \"deaths\", \"popData2019\", \"Cumulative_number_for_14_days_of_COVID-19_cases_per_100000\", \"country\", \"cumCases\", \"cumDeaths\", \"runDate\"])\n",
    "for country in countrylist:\n",
    "    dfcountry = df[[\"dateRep\",\"cases\", \"deaths\", \"popData2019\", \"Cumulative_number_for_14_days_of_COVID-19_cases_per_100000\"]][df[\"countriesAndTerritories\"] == country]\n",
    "    dfcountry['country'] = country\n",
    "    dfcountry = dfcountry.iloc[::-1]\n",
    "    dfcountry[\"cumCases\"] = dfcountry[\"cases\"].cumsum(axis = 0, skipna = True)\n",
    "    dfcountry[\"cumDeaths\"] = dfcountry[\"deaths\"].cumsum(axis = 0, skipna = True)\n",
    "    dfcountry[\"dateRep\"] = dfcountry[\"dateRep\"].astype(\"str\")\n",
    "    dfcountry[\"runDate\"] = list(range(len(dfcountry)))\n",
    "    dflist = dflist.append(dfcountry)"
   ]
  },
  {
   "cell_type": "markdown",
   "metadata": {},
   "source": [
    "### Correlation analysis"
   ]
  },
  {
   "cell_type": "code",
   "execution_count": 7,
   "metadata": {
    "scrolled": false
   },
   "outputs": [
    {
     "name": "stderr",
     "output_type": "stream",
     "text": [
      "C:\\Users\\simory\\AppData\\Local\\Continuum\\anaconda3\\lib\\site-packages\\matplotlib\\tight_layout.py:181: UserWarning:\n",
      "\n",
      "Tight layout not applied. The bottom and top margins cannot be made large enough to accommodate all axes decorations. \n",
      "\n"
     ]
    },
    {
     "data": {
      "image/png": "[encoded data removed]",
      "text/plain": [
       "<Figure size 432x360 with 2 Axes>"
      ]
     },
     "metadata": {
      "needs_background": "light"
     },
     "output_type": "display_data"
    }
   ],
   "source": [
    "import seaborn as sns\n",
    "import matplotlib.pyplot as plt\n",
    "%matplotlib inline\n",
    "\n",
    "dflist[[\"cases\", \"deaths\", \"popData2019\", \"Cumulative_number_for_14_days_of_COVID-19_cases_per_100000\", \"cumCases\", \"cumDeaths\"]] = dflist[[\"cases\", \"deaths\", \"popData2019\", \"Cumulative_number_for_14_days_of_COVID-19_cases_per_100000\", \"cumCases\", \"cumDeaths\"]].astype(\"float64\")\n",
    "corr = dflist[[\"cases\", \"deaths\", \"popData2019\", \"Cumulative_number_for_14_days_of_COVID-19_cases_per_100000\", \"cumCases\", \"cumDeaths\"]].corr(method='spearman')\n",
    "\n",
    "# Generate a mask for the upper triangle\n",
    "mask = np.zeros_like(corr, dtype=np.bool)\n",
    "mask[np.triu_indices_from(mask)] = True\n",
    "\n",
    "# Set up the matplotlib figure\n",
    "fig, ax = plt.subplots(figsize=(6, 5))\n",
    "\n",
    "# Generate a custom diverging colormap\n",
    "cmap = sns.diverging_palette(220, 10, as_cmap=True, sep=100)\n",
    "\n",
    "# Draw the heatmap with the mask and correct aspect ratio\n",
    "sns.heatmap(corr, mask=mask, cmap=cmap, vmin=-1, vmax=1, center=0, linewidths=.5)\n",
    "\n",
    "fig.suptitle('Correlation matrix of features', fontsize=15)\n",
    "\n",
    "fig.tight_layout()"
   ]
  },
  {
   "cell_type": "markdown",
   "metadata": {},
   "source": [
    "## Polynomial regression on COVID-19 data"
   ]
  },
  {
   "cell_type": "code",
   "execution_count": 13,
   "metadata": {
    "scrolled": false
   },
   "outputs": [
    {
     "data": {
      "application/vnd.jupyter.widget-view+json": {
       "model_id": "91b7937afdcb4825bd05b9859a7a967d",
       "version_major": 2,
       "version_minor": 0
      },
      "text/plain": [
       "interactive(children=(Dropdown(description='country', index=69, options=('Afghanistan', 'Albania', 'Algeria', …"
      ]
     },
     "metadata": {},
     "output_type": "display_data"
    }
   ],
   "source": [
    "from __future__ import print_function\n",
    "\n",
    "# Fitting Polynomial Regression to the dataset \n",
    "from sklearn.preprocessing import PolynomialFeatures \n",
    "from sklearn.linear_model import LinearRegression \n",
    "from sklearn.metrics import r2_score\n",
    "from ipywidgets import interact\n",
    "import ipywidgets as widgets\n",
    "import plotly.graph_objects as go\n",
    "\n",
    "lin = LinearRegression() \n",
    "\n",
    "def plotti(country, case, poly_degree, future_prediction):\n",
    "\n",
    "    if case == \"cases\":\n",
    "        index = 1\n",
    "    elif case == \"deaths\":\n",
    "        index = 2\n",
    "    elif case == \"Cumulative_number_for_14_days_of_COVID-19_cases_per_100000\":\n",
    "        index = 4\n",
    "    elif case == \"cumCases\":\n",
    "        index = 6\n",
    "    else:\n",
    "        index = 7\n",
    "        \n",
    "\n",
    "    figCases = go.Figure()\n",
    "\n",
    "    dflist2 = dflist[dflist.country == country].dropna()\n",
    "    \n",
    "    X = dflist2.iloc[:, 8:9].values \n",
    "    y = dflist2.iloc[:, index].values \n",
    "\n",
    "    lin.fit(X, y) \n",
    "\n",
    "    poly = PolynomialFeatures(degree = poly_degree) \n",
    "    X_poly = poly.fit_transform(X) \n",
    "\n",
    "    poly.fit(X_poly, y) \n",
    "    lin2 = LinearRegression() \n",
    "    lin2.fit(X_poly, y) \n",
    "\n",
    "    # Visualising the Polynomial Regression results \n",
    "    plt.scatter(X, y, color = 'blue') \n",
    "\n",
    "    print(country + \" polynomial model R^2: \" + str(round(r2_score(y, lin2.predict(poly.fit_transform(X))), 4)))\n",
    "\n",
    "    values = [x for x in range(len(X)+1, len(X)+future_prediction)]\n",
    "    X = np.append(X, values).reshape(-1, 1)\n",
    "\n",
    "    plt.plot(X, lin2.predict(poly.fit_transform(X)), color = 'red') \n",
    "    plt.title('Polynomial Regression') \n",
    "    plt.xlabel('Days') \n",
    "    plt.ylabel('Cases') \n",
    "\n",
    "\n",
    "    plt.show()\n",
    "\n",
    "    figCases.add_trace(go.Scatter(x=X.squeeze(), y=y,\n",
    "                            mode='markers',\n",
    "                            name=country + \" \" + case))\n",
    "\n",
    "    figCases.add_trace(go.Scatter(x=X.squeeze(), y=lin2.predict(poly.fit_transform(X)),\n",
    "                            mode='lines',\n",
    "                            name=country + ' predictions'))\n",
    "\n",
    "    figCases.update_layout(title = country + \" \" + case)\n",
    "    figCases.show()\n",
    "    \n",
    "interact(plotti, country=widgets.Dropdown(options=df[\"countriesAndTerritories\"].unique(), value=\"Finland\"), case=[\"cases\", \"deaths\", \"cumCases\", \"cumDeaths\", \"Cumulative_number_for_14_days_of_COVID-19_cases_per_100000\"], poly_degree=(1,6,1), future_prediction=(0, 120, 1));"
   ]
  }
 ],
 "metadata": {
  "kernelspec": {
   "display_name": "Python 3",
   "language": "python",
   "name": "python3"
  },
  "language_info": {
   "codemirror_mode": {
    "name": "ipython",
    "version": 3
   },
   "file_extension": ".py",
   "mimetype": "text/x-python",
   "name": "python",
   "nbconvert_exporter": "python",
   "pygments_lexer": "ipython3",
   "version": "3.7.3"
  }
 },
 "nbformat": 4,
 "nbformat_minor": 2
}
