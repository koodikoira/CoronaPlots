{
 "cells": [
  {
   "cell_type": "markdown",
   "metadata": {},
   "source": [
    "## Dogtor dog's temporal <big style=\"color: red;\">3D</big> COVID19 visualization solution"
   ]
  },
  {
   "cell_type": "markdown",
   "metadata": {},
   "source": [
    "<img src=\"https://s14-eu5.startpage.com/cgi-bin/serveimage?url=https:%2F%2Fsteamuserimages-a.akamaihd.net%2Fugc%2F272841093784221615%2F948967DA5537466A9509113E12C237641EB1506D%2F&sp=9ce3481ad1247d4f63b90d00de600702\" alt=\"The Man himself\" style=\"width:250px;height:200px;\">\n",
    "<audio autoplay>\n",
    "  <source src=\"https://a.tumblr.com/tumblr_m9cqm4IkM31qkv3fno1.mp3\" type=\"audio/mpeg\"></audio>"
   ]
  },
  {
   "cell_type": "markdown",
   "metadata": {},
   "source": [
    "This is a 2D visualization solution for temporal COVID19 epidemiological data available from: <strike><a href=\"https://www.acdc.com/\">acdc</a></strike>, <a href=\"https://www.ecdc.europa.eu/en/publications-data/download-todays-data-geographic-distribution-covid-19-cases-worldwide\">ecdc</a>."
   ]
  },
  {
   "cell_type": "code",
   "execution_count": 1,
   "metadata": {},
   "outputs": [
    {
     "data": {
      "text/html": [
       "<style>.container { width:100% !important; }</style>"
      ],
      "text/plain": [
       "<IPython.core.display.HTML object>"
      ]
     },
     "metadata": {},
     "output_type": "display_data"
    }
   ],
   "source": [
    "from __future__ import print_function\n",
    "import ipywidgets as widgets\n",
    "import pandas as pd\n",
    "import numpy as np\n",
    "from sklearn import linear_model\n",
    "from ipywidgets import interact, interactive, fixed, interact_manual\n",
    "import plotly.graph_objects as go\n",
    "from IPython.display import display\n",
    "from IPython.core.display import display, HTML\n",
    "display(HTML(\"<style>.container { width:100% !important; }</style>\"))"
   ]
  },
  {
   "cell_type": "code",
   "execution_count": 4,
   "metadata": {
    "scrolled": false
   },
   "outputs": [
    {
     "data": {
      "application/vnd.jupyter.widget-view+json": {
       "model_id": "f9edb75b26e241e0947fef0f9a24b65f",
       "version_major": 2,
       "version_minor": 0
      },
      "text/plain": [
       "Button(description='reset countries', style=ButtonStyle())"
      ]
     },
     "metadata": {},
     "output_type": "display_data"
    },
    {
     "data": {
      "application/vnd.jupyter.widget-view+json": {
       "model_id": "dff5003c3e494f17b58df60d37f7e6a2",
       "version_major": 2,
       "version_minor": 0
      },
      "text/plain": [
       "interactive(children=(IntSlider(value=30, description='days', max=300, min=10), Dropdown(description='countrie…"
      ]
     },
     "metadata": {},
     "output_type": "display_data"
    },
    {
     "data": {
      "text/plain": [
       "<function __main__.plotti(days, countries, Relation_To_Population, linear_model)>"
      ]
     },
     "execution_count": 4,
     "metadata": {},
     "output_type": "execute_result"
    }
   ],
   "source": [
    "%matplotlib inline\n",
    "\n",
    "#fetching the data\n",
    "while True:\n",
    "    try:\n",
    "        df = pd.read_csv(\"https://opendata.ecdc.europa.eu/covid19/casedistribution/csv\") \n",
    "        # below is a link to an old source\n",
    "        #(\"https://www.ecdc.europa.eu/sites/default/files/documents/COVID-19-geographic-disbtribution-worldwide-\"+ str(date.today())[:8] + str(int(str(date.today())[8:])-1) + \".xlsx\")\n",
    "        break\n",
    "    except:\n",
    "        print(\"Error fetching data\")\n",
    "        break\n",
    "\n",
    "# function for fetching the requested countrydata\n",
    "def preprocess(df, countrylist, days):\n",
    "\n",
    "    dflist = []\n",
    "    for country in countrylist:\n",
    "        dfcountry = df[[\"dateRep\",\"cases\", \"deaths\", \"popData2019\"]][df[\"countriesAndTerritories\"] == country]\n",
    "        dfcountry['country'] = country\n",
    "        dfcountry = dfcountry.iloc[::-1]\n",
    "        dfcountry[\"cumCases\"] = dfcountry[\"cases\"].cumsum(axis = 0, skipna = True)\n",
    "        dfcountry[\"cumDeaths\"] = dfcountry[\"deaths\"].cumsum(axis = 0, skipna = True)\n",
    "        dfcountry[\"runDate\"] = list(range(len(dfcountry)))\n",
    "        dflist.append(dfcountry)\n",
    "    dfTemporal = pd.concat(dflist)\n",
    "    dfTemporal[\"dateRep\"] = dfTemporal[\"dateRep\"].astype(\"str\")\n",
    "    return(dfTemporal)\n",
    "\n",
    "# function for plotting cases and deaths\n",
    "def lineplotCaseDeath(df, countrylist, days, relPop, lm):\n",
    "\n",
    "    figCases = go.Figure()\n",
    "    dflm = pd.DataFrame(columns=[\"runDate\",\"cumCases\", \"cumDeaths\", \"popData2019\"])\n",
    "    \n",
    "    for country in countrylist:\n",
    "        \n",
    "        if relPop is False:\n",
    "            z = df[\"cumCases\"][df[\"country\"] == country].tail(days)\n",
    "        else:\n",
    "            z = (df[\"cumCases\"]/df[\"popData2019\"])[df[\"country\"] == country].tail(days)\n",
    "            \n",
    "        if lm is False:\n",
    "            runDate = df[\"dateRep\"].tail(days)\n",
    "        else:\n",
    "            runDate = df[\"runDate\"].tail(days)\n",
    "            dflm = dflm.append(df[[\"runDate\",\"cumCases\", \"cumDeaths\", \"popData2019\"]][df[\"country\"] == country].tail(days), sort=False)\n",
    "            \n",
    "        figCases.add_trace(go.Scatter3d(x=runDate, y=df[\"popData2019\"][df[\"country\"] == country].tail(days),\n",
    "                                      z=z,\n",
    "                            mode='lines',\n",
    "                            name=country + ' cases'))\n",
    "    \n",
    "    if lm is True:\n",
    "        \n",
    "        X = dflm[['runDate', 'popData2019']].values.reshape(-1,2)\n",
    "        if relPop is False:\n",
    "            Y = dflm['cumCases']\n",
    "        else:\n",
    "            Y = dflm['cumCases']/dflm['popData2019']\n",
    "\n",
    "        ######################## Prepare model data point for visualization ###############################\n",
    "\n",
    "        x = X[:, 0]\n",
    "        y = X[:, 1]\n",
    "        z = Y\n",
    "\n",
    "        x_pred = np.linspace(min(dflm.runDate), max(dflm.runDate), days)   # range of date values\n",
    "        y_pred = np.linspace(min(dflm.popData2019), max(dflm.popData2019), days)  # range of popData2019 values\n",
    "        xx_pred, yy_pred = np.meshgrid(x_pred, y_pred)\n",
    "        model_viz = np.array([xx_pred.flatten(), yy_pred.flatten()]).T\n",
    "\n",
    "        ################################################ Train #############################################\n",
    "\n",
    "        ols = linear_model.LinearRegression()\n",
    "        model = ols.fit(X, Y)\n",
    "        predicted = model.predict(model_viz)\n",
    "\n",
    "        ############################################## Evaluate ############################################\n",
    "\n",
    "        r2 = model.score(X, Y)\n",
    "        \n",
    "        ################################################ Plot ##############################################\n",
    "        \n",
    "        #figCases.add_trace(go.Scatter3d(x=xx_pred.flatten(), y=yy_pred.flatten(), z=predicted, mode='markers', name='linear model'))\n",
    "        figCases.add_trace({'type': 'mesh3d',\n",
    "                    'x': xx_pred.flatten(),\n",
    "                    'y': yy_pred.flatten(),\n",
    "                    'z': predicted,\n",
    "                    'delaunayaxis':'x',\n",
    "                    'color': 'green',\n",
    "                    'opacity': 0.5\n",
    "                   })\n",
    "    \n",
    "\n",
    "    figCases.update_layout(title=\"Cases:\" + str(list(df[\"country\"].unique())))\n",
    "    \n",
    "    figCases.show()\n",
    "    \n",
    "    figDeaths = go.Figure()\n",
    "    \n",
    "    for country in countrylist:\n",
    "        \n",
    "        df[df[\"country\"] == country].tail(days)\n",
    "        \n",
    "        if relPop is False:\n",
    "            z = df[\"cumDeaths\"][df[\"country\"] == country].tail(days)\n",
    "        else:\n",
    "            z = (df[\"cumDeaths\"]/df[\"popData2019\"])[df[\"country\"] == country].tail(days)\n",
    "        \n",
    "        figDeaths.add_trace(go.Scatter3d(x=runDate, y=df[\"popData2019\"][df[\"country\"] == country].tail(days),\n",
    "                                       z=z,\n",
    "                            mode='lines',\n",
    "                            name=country + ' deaths'))\n",
    "        \n",
    "    if lm is True:\n",
    "\n",
    "        #dflm = df[[\"runDate\",\"cumDeaths\", \"popData2019\"]]\n",
    "        \n",
    "        X = dflm[['runDate', 'popData2019']].values.reshape(-1,2)\n",
    "        if relPop is False:\n",
    "            Y = dflm['cumDeaths']\n",
    "        else:\n",
    "            Y = dflm['cumDeaths']/dflm['popData2019']\n",
    "\n",
    "        ######################## Prepare model data point for visualization ###############################\n",
    "\n",
    "        x = X[:, 0]\n",
    "        y = X[:, 1]\n",
    "        z = Y\n",
    "\n",
    "        x_pred = np.linspace(min(dflm.runDate), max(dflm.runDate), days)   # range of date values\n",
    "        y_pred = np.linspace(min(dflm.popData2019), max(dflm.popData2019), days)  # range of popData2019 values\n",
    "        xx_pred, yy_pred = np.meshgrid(x_pred, y_pred)\n",
    "        model_viz = np.array([xx_pred.flatten(), yy_pred.flatten()]).T\n",
    "\n",
    "        ################################################ Train #############################################\n",
    "\n",
    "        ols = linear_model.LinearRegression()\n",
    "        model = ols.fit(X, Y)\n",
    "        predicted = model.predict(model_viz)\n",
    "\n",
    "        ############################################## Evaluate ############################################\n",
    "\n",
    "        r2 = model.score(X, Y)\n",
    "        \n",
    "        ################################################ Plot ##############################################\n",
    "        \n",
    "        #figDeaths.add_trace(go.Scatter3d(x=xx_pred.flatten(), y=yy_pred.flatten(), z=predicted, mode='markers', name='linear model'))\n",
    "        figDeaths.add_trace({'type': 'mesh3d',\n",
    "                            'x': xx_pred.flatten(),\n",
    "                            'y': yy_pred.flatten(),\n",
    "                            'z': predicted,\n",
    "                            'delaunayaxis':'x',\n",
    "                            'color': 'green',\n",
    "                            'opacity': 0.5\n",
    "                           })\n",
    "    \n",
    "    figDeaths.update_layout(title=\"Deaths:\" + str(list(df[\"country\"].unique())))\n",
    "    figDeaths.show()\n",
    "\n",
    "countrylist = []\n",
    "\n",
    "def plotti(days, countries, Relation_To_Population, linear_model):\n",
    "    global countrylist\n",
    "    countrylist.append(countries)\n",
    "    countrylist = list(set(countrylist))\n",
    "    print(countrylist)\n",
    "    df2 = preprocess(df, countrylist, days)\n",
    "    return lineplotCaseDeath(df2, countrylist, days, Relation_To_Population, linear_model)\n",
    "\n",
    "def resetCountries(b):\n",
    "    global countrylist\n",
    "    countrylist = []\n",
    "    return countrylist\n",
    "\n",
    "button = widgets.Button(description=\"reset countries\")\n",
    "\n",
    "button.on_click(resetCountries)\n",
    "\n",
    "display(button)\n",
    "\n",
    "interact_manual(plotti, days = widgets.IntSlider(min=10,max=300,value=30), \n",
    "                countries = widgets.Dropdown(options = df[\"countriesAndTerritories\"].unique()), \n",
    "                Relation_To_Population=False, linear_model=False)\n"
   ]
  },
  {
   "cell_type": "code",
   "execution_count": null,
   "metadata": {},
   "outputs": [],
   "source": [
    "figCases.write_html(\"coronaMultiLinearmodel.html\")"
   ]
  }
 ],
 "metadata": {
  "kernelspec": {
   "display_name": "Python 3",
   "language": "python",
   "name": "python3"
  },
  "language_info": {
   "codemirror_mode": {
    "name": "ipython",
    "version": 3
   },
   "file_extension": ".py",
   "mimetype": "text/x-python",
   "name": "python",
   "nbconvert_exporter": "python",
   "pygments_lexer": "ipython3",
   "version": "3.7.3"
  }
 },
 "nbformat": 4,
 "nbformat_minor": 4
}
