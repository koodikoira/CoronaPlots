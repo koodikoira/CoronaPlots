{
 "cells": [
  {
   "cell_type": "markdown",
   "metadata": {},
   "source": [
    "## Dogtor dog's temporal COVID19 visualization solution"
   ]
  },
  {
   "cell_type": "markdown",
   "metadata": {},
   "source": [
    "<img src=\"https://s14-eu5.startpage.com/cgi-bin/serveimage?url=https:%2F%2Fsteamuserimages-a.akamaihd.net%2Fugc%2F272841093784221615%2F948967DA5537466A9509113E12C237641EB1506D%2F&sp=9ce3481ad1247d4f63b90d00de600702\" alt=\"The Man himself\" style=\"width:250px;height:200px;\">\n",
    "<audio autoplay>\n",
    "  <source src=\"https://a.tumblr.com/tumblr_m9cqm4IkM31qkv3fno1.mp3\" type=\"audio/mpeg\"></audio>"
   ]
  },
  {
   "cell_type": "markdown",
   "metadata": {},
   "source": [
    "This is a 2D visualization solution for temporal COVID19 epidemiological data available from: <strike><a href=\"https://www.acdc.com/\">acdc</a></strike>, <a href=\"https://www.ecdc.europa.eu/en/publications-data/download-todays-data-geographic-distribution-covid-19-cases-worldwide\">ecdc</a>."
   ]
  },
  {
   "cell_type": "code",
   "execution_count": 1,
   "metadata": {},
   "outputs": [
    {
     "data": {
      "text/html": [
       "<style>.container { width:100% !important; }</style>"
      ],
      "text/plain": [
       "<IPython.core.display.HTML object>"
      ]
     },
     "metadata": {},
     "output_type": "display_data"
    }
   ],
   "source": [
    "from __future__ import print_function\n",
    "import ipywidgets as widgets\n",
    "import pandas as pd\n",
    "import numpy as np\n",
    "from ipywidgets import interact, interactive, fixed, interact_manual\n",
    "import plotly.graph_objects as go\n",
    "from IPython.display import display\n",
    "from IPython.core.display import display, HTML\n",
    "display(HTML(\"<style>.container { width:100% !important; }</style>\"))"
   ]
  },
  {
   "cell_type": "code",
   "execution_count": 2,
   "metadata": {
    "scrolled": false
   },
   "outputs": [
    {
     "data": {
      "application/vnd.jupyter.widget-view+json": {
       "model_id": "24ac9e5aa355447b9dbf5da413cce3c1",
       "version_major": 2,
       "version_minor": 0
      },
      "text/plain": [
       "Button(description='reset countries', style=ButtonStyle())"
      ]
     },
     "metadata": {},
     "output_type": "display_data"
    },
    {
     "data": {
      "application/vnd.jupyter.widget-view+json": {
       "model_id": "5db6c394c1d249f4921a9dcb93cb3087",
       "version_major": 2,
       "version_minor": 0
      },
      "text/plain": [
       "interactive(children=(IntSlider(value=30, description='days', max=300, min=10), Dropdown(description='countrie…"
      ]
     },
     "metadata": {},
     "output_type": "display_data"
    },
    {
     "data": {
      "text/plain": [
       "<function __main__.plotti(days, countries, popRel)>"
      ]
     },
     "execution_count": 2,
     "metadata": {},
     "output_type": "execute_result"
    }
   ],
   "source": [
    "%matplotlib inline\n",
    "\n",
    "#fetching the data\n",
    "while True:\n",
    "    try:\n",
    "        df = pd.read_csv(\"https://opendata.ecdc.europa.eu/covid19/casedistribution/csv\") \n",
    "        # below is a link to an old source\n",
    "        #(\"https://www.ecdc.europa.eu/sites/default/files/documents/COVID-19-geographic-disbtribution-worldwide-\"+ str(date.today())[:8] + str(int(str(date.today())[8:])-1) + \".xlsx\")\n",
    "        break\n",
    "    except:\n",
    "        print(\"Error fetching data\")\n",
    "\n",
    "# function for fetching the requested countrydata\n",
    "def preprocess(df, countrylist):\n",
    "\n",
    "    dflist = []\n",
    "    for country in countrylist:\n",
    "        dfcountry = df[[\"dateRep\",\"cases\", \"deaths\", \"popData2019\"]][df[\"countriesAndTerritories\"] == country]\n",
    "        dfcountry['country'] = country\n",
    "        dfcountry = dfcountry.iloc[::-1]\n",
    "        dfcountry[\"cumCases\"] = dfcountry[\"cases\"].cumsum(axis = 0, skipna = True)\n",
    "        dfcountry[\"cumDeaths\"] = dfcountry[\"deaths\"].cumsum(axis = 0, skipna = True)\n",
    "        dflist.append(dfcountry)\n",
    "    dfTemporal = pd.concat(dflist)\n",
    "    dfTemporal[\"dateRep\"] = dfTemporal[\"dateRep\"].astype(\"str\")\n",
    "    return(dfTemporal)\n",
    "\n",
    "# function for plotting cases and deaths\n",
    "def lineplotCaseDeath(df, countrylist, days):\n",
    "    \n",
    "    dates = df[\"dateRep\"].tail(days)\n",
    "    figCases = go.Figure()\n",
    "    for country in countrylist:\n",
    "        figCases.add_trace(go.Scatter(x=dates, y=df[\"cumCases\"][df[\"country\"] == country].tail(days),\n",
    "                            mode='lines+markers',\n",
    "                            name=country + ' cases'))\n",
    "    figCases.update_layout(title=\"Cases:\" + str(list(df[\"country\"].unique())))\n",
    "    \n",
    "    figCases.show()\n",
    "    \n",
    "    figDeaths = go.Figure()\n",
    "    for country in countrylist:\n",
    "        figDeaths.add_trace(go.Scatter(x=dates, y=df[\"cumDeaths\"][df[\"country\"] == country].tail(days),\n",
    "                            mode='lines+markers',\n",
    "                            name=country + ' deaths'))\n",
    "    figDeaths.update_layout(title=\"Deaths:\" + str(list(df[\"country\"].unique())))\n",
    "    figDeaths.show()\n",
    "\n",
    "# function for plotting cases and deaths in relation to population size\n",
    "def lineplotRelative(df, countrylist, days):\n",
    "    \n",
    "    dates = df[\"dateRep\"].tail(days)\n",
    "    figCases = go.Figure()\n",
    "    for country in countrylist:\n",
    "        figCases.add_trace(go.Scatter(x=dates, y=(df[\"cumCases\"]/df[\"popData2019\"])[df[\"country\"] == country].tail(days),\n",
    "                            mode='lines+markers',\n",
    "                            name=country + ' cases'))\n",
    "    figCases.update_layout(title=\"Cases:\" + str(list(df[\"country\"].unique())))\n",
    "    \n",
    "    figCases.show()\n",
    "    \n",
    "    figDeaths = go.Figure()\n",
    "    for country in countrylist:\n",
    "        figDeaths.add_trace(go.Scatter(x=dates, y=(df[\"cumCases\"]/df[\"popData2019\"])[df[\"country\"] == country].tail(days),\n",
    "                            mode='lines+markers',\n",
    "                            name=country + ' deaths'))\n",
    "    figDeaths.update_layout(title=\"Deaths:\" + str(list(df[\"country\"].unique())))\n",
    "    figDeaths.show()\n",
    "\n",
    "countrylist = []\n",
    "\n",
    "def plotti(days, countries, popRel):\n",
    "    global countrylist\n",
    "    countrylist.append(countries)\n",
    "    countrylist = list(set(countrylist))\n",
    "    print(countrylist)\n",
    "    df2 = preprocess(df, countrylist)\n",
    "    if popRel is False:\n",
    "        return lineplotCaseDeath(df2, countrylist, days)\n",
    "    else:\n",
    "        return lineplotRelative(df2, countrylist, days)\n",
    "\n",
    "def resetCountries(b):\n",
    "    global countrylist\n",
    "    countrylist = []\n",
    "    return countrylist\n",
    "\n",
    "button = widgets.Button(description=\"reset countries\")\n",
    "\n",
    "button.on_click(resetCountries)\n",
    "\n",
    "display(button)\n",
    "\n",
    "interact_manual(plotti, days = widgets.IntSlider(min=10,max=300,value=30), \n",
    "                countries = widgets.Dropdown(options = df[\"countriesAndTerritories\"].unique()), \n",
    "                popRel=False)\n"
   ]
  }
 ],
 "metadata": {
  "kernelspec": {
   "display_name": "Python 3",
   "language": "python",
   "name": "python3"
  },
  "language_info": {
   "codemirror_mode": {
    "name": "ipython",
    "version": 3
   },
   "file_extension": ".py",
   "mimetype": "text/x-python",
   "name": "python",
   "nbconvert_exporter": "python",
   "pygments_lexer": "ipython3",
   "version": "3.7.4"
  }
 },
 "nbformat": 4,
 "nbformat_minor": 4
}
